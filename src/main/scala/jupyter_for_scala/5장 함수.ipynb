{
 "cells": [
  {
   "cell_type": "markdown",
   "id": "involved-construction",
   "metadata": {},
   "source": [
    "### 함수 정의\n",
    "\n",
    "```scala\n",
    "def 함수명([매개변수]): [반환 자료형] = {\n",
    "  // 로직   \n",
    "}\n",
    "```"
   ]
  },
  {
   "cell_type": "code",
   "execution_count": 6,
   "id": "suspected-advocacy",
   "metadata": {},
   "outputs": [
    {
     "name": "stdout",
     "output_type": "stream",
     "text": [
      "Hello Scala\n"
     ]
    },
    {
     "data": {
      "text/plain": [
       "main: (args: Array[String])Unit\n",
       "name: ()Int\n",
       "name2: (a: Int, b: Int)Int\n"
      ]
     },
     "metadata": {},
     "output_type": "display_data"
    },
    {
     "data": {
      "text/plain": [
       "3"
      ]
     },
     "execution_count": 6,
     "metadata": {},
     "output_type": "execute_result"
    }
   ],
   "source": [
    "def main(args: Array[String]): Unit = {\n",
    "    println(\"Hello Scala\")\n",
    "}\n",
    "\n",
    "def name() = {\n",
    "    val a = 10\n",
    "    a\n",
    "}\n",
    "\n",
    "def name2(a: Int, b: Int): Int = {\n",
    "    a + b\n",
    "}\n",
    "main(Array())\n",
    "name()\n",
    "name2(1,2)"
   ]
  },
  {
   "cell_type": "markdown",
   "id": "seventh-finance",
   "metadata": {},
   "source": [
    "### 함수 호출 형태\n",
    "CALL-BY-VALUE, CALL-BY-NAME \n",
    "- CALL-BY-VALUE는 많이 봐왔던 함수 형태. a(b(x)) 처럼 b의 반환 값이 다시 a에 들어감\n",
    "- CALL-BY-NAME은 b 자체가 a의 인수로 들어간다. 즉, b의 반환 값이 아닌 b라는 함수 자체가 매개변수로 들어감"
   ]
  },
  {
   "cell_type": "code",
   "execution_count": 10,
   "id": "adverse-packet",
   "metadata": {},
   "outputs": [
    {
     "data": {
      "text/plain": [
       "people: (n: Int)Int\n",
       "dropship: (n: Int)Unit\n"
      ]
     },
     "metadata": {},
     "output_type": "display_data"
    },
    {
     "name": "stdout",
     "output_type": "stream",
     "text": [
      "탑승수속을 시작합니다\n",
      "드랍십 준비합니다.\n",
      "5명 탑승합니다\n"
     ]
    }
   ],
   "source": [
    "// CALL-BY-VALUE\n",
    "def people(n: Int) = {\n",
    "    println(\"탑승수속을 시작합니다\")\n",
    "    n\n",
    "}\n",
    "\n",
    "def dropship(n: Int) = {\n",
    "    println(\"드랍십 준비합니다.\")\n",
    "    println(n + \"명 탑승합니다\")\n",
    "}\n",
    "\n",
    "dropship(people(5))"
   ]
  },
  {
   "cell_type": "code",
   "execution_count": 9,
   "id": "hired-delta",
   "metadata": {},
   "outputs": [
    {
     "data": {
      "text/plain": [
       "dropship: (n: => Int)Unit\n"
      ]
     },
     "metadata": {},
     "output_type": "display_data"
    },
    {
     "data": {
      "text/plain": [
       "people: (n: Int)Int\n"
      ]
     },
     "metadata": {},
     "output_type": "display_data"
    },
    {
     "name": "stdout",
     "output_type": "stream",
     "text": [
      "드랍십 준비합니다.\n",
      "탑승수속을 시작합니다\n",
      "5명 탑승합니다\n"
     ]
    }
   ],
   "source": [
    "// CALL-BY-NAME\n",
    "// dropship 파라미터 n은 people() 함수\n",
    "def people(n: Int) = {\n",
    "    println(\"탑승수속을 시작합니다\")\n",
    "    n\n",
    "}\n",
    "\n",
    "def dropship(n: => Int) = {\n",
    "    println(\"드랍십 준비합니다.\")\n",
    "    println(n + \"명 탑승합니다\")\n",
    "}\n",
    "\n",
    "dropship(people(5))"
   ]
  },
  {
   "cell_type": "markdown",
   "id": "molecular-begin",
   "metadata": {},
   "source": [
    "왜 함수를 매게변수로 선언하게 이용하는지?\n",
    "- 여러 함수의 공통적인 부분을 뽑아서 사용할수 있다.\n",
    "- 구체적인 로직은 따로 구현하고 공통적인 로직에서 이를 인수로 받아서 사용할수 있다.\n",
    "- 즉, 추상화된 공통 함수는 함수마다 다시 구현하지 않아도 되고, 구체적인 로직을 담은 함수는 인수로 들어가게 되어 코드가 줄고 구조가 튼튼해진다."
   ]
  },
  {
   "cell_type": "markdown",
   "id": "statistical-playing",
   "metadata": {},
   "source": [
    "### 함수의 일부 인수 고정하기\n",
    "매개 변수에 기본값 설정"
   ]
  },
  {
   "cell_type": "code",
   "execution_count": 11,
   "id": "therapeutic-therapy",
   "metadata": {},
   "outputs": [
    {
     "name": "stdout",
     "output_type": "stream",
     "text": [
      "test1:2016\n",
      "test2:2016\n",
      "test3:2016\n"
     ]
    },
    {
     "data": {
      "text/plain": [
       "thisYear = 2016\n",
       "fixedValueFunction = > Unit = <function1>\n"
      ]
     },
     "metadata": {},
     "output_type": "display_data"
    },
    {
     "data": {
      "text/plain": [
       "go: (thisYear: Int, string: String)Unit\n"
      ]
     },
     "metadata": {},
     "output_type": "display_data"
    },
    {
     "data": {
      "text/plain": [
       "> Unit = <function1>"
      ]
     },
     "execution_count": 11,
     "metadata": {},
     "output_type": "execute_result"
    }
   ],
   "source": [
    "val thisYear = 2016\n",
    "val fixedValueFunction = go(thisYear, _: String) // 계속 변해야하는 인수는 _ 를 통해 자료형만 정해주면 된다.\n",
    "def go(thisYear: Int, string: String) = {\n",
    "    println(string + \":\" + thisYear)\n",
    "}\n",
    "fixedValueFunction(\"test1\")\n",
    "fixedValueFunction(\"test2\")\n",
    "fixedValueFunction(\"test3\")"
   ]
  },
  {
   "cell_type": "markdown",
   "id": "standing-waters",
   "metadata": {},
   "source": [
    "### 커링이란?\n",
    "\n",
    "여러 개의 인수를 받는 하나의 함수를 하나의 인수로 받는 여러개의 함수로 바꿔주는 기법\n",
    "\n",
    "즉, def main(1,2,3) -> def main(1), main2(2), main3(3) 이런식으로 바꿔준다??\n",
    "\n",
    "```scala\n",
    "def normalSum(x:Int, y:Int) = x + y\n",
    "def curriedSum(x:Int)(y:Int) = x + y\n",
    "```\n",
    "커링은 부분함수 만들때 쉽게 쓰일수 있다. 위에서 봤던 go(thisYear, string)도 커링을 통해 부분 적용 함수로 바꿀수 있다.\n",
    "- 원래 go(thisYear, _: String) 형태로 써야했다.\n",
    "- 하지만, 커링 방식으로 go(thisYear)_ 만 써도 되므로 편리함"
   ]
  },
  {
   "cell_type": "markdown",
   "id": "adequate-appeal",
   "metadata": {},
   "source": [
    "### => 를 이용한 함수 표현식\n",
    "일반적인 함수 정의를 통해 구성하는 방식 외에도, 함수 자체를 값으로 받을수 있게 해주는 식도 존재한다.\n",
    "```scala\n",
    "def functionExpression(x: (Int => Int)) = { // ... }\n",
    "```"
   ]
  },
  {
   "cell_type": "code",
   "execution_count": 21,
   "id": "elect-russian",
   "metadata": {},
   "outputs": [
    {
     "data": {
      "text/plain": [
       "functionAsValue = > Int = <function1>\n",
       "functionAsValue2 = > Int = <function1>\n"
      ]
     },
     "metadata": {},
     "output_type": "display_data"
    },
    {
     "data": {
      "text/plain": [
       "> Int = <function1>"
      ]
     },
     "execution_count": 21,
     "metadata": {},
     "output_type": "execute_result"
    }
   ],
   "source": [
    "val functionAsValue = (y: Int) => y + 10 // 해당 표현식은 아래와 동일하다.\n",
    "\n",
    "val functionAsValue2: Int => Int = new Function1[Int, Int] {\n",
    "    def apply(y: Int): Int = y + 10\n",
    "}\n",
    "// functionAsValue는 Function1 객체이다."
   ]
  },
  {
   "cell_type": "code",
   "execution_count": 22,
   "id": "crazy-crawford",
   "metadata": {},
   "outputs": [
    {
     "name": "stdout",
     "output_type": "stream",
     "text": [
      "1\n"
     ]
    },
    {
     "data": {
      "text/plain": [
       "g = > Int = <function1>\n"
      ]
     },
     "metadata": {},
     "output_type": "display_data"
    },
    {
     "data": {
      "text/plain": [
       "f: (i: Int)Int\n"
      ]
     },
     "metadata": {},
     "output_type": "display_data"
    },
    {
     "data": {
      "text/plain": [
       "> Int = <function1>"
      ]
     },
     "execution_count": 22,
     "metadata": {},
     "output_type": "execute_result"
    }
   ],
   "source": [
    "val g = f _\n",
    "println(f(1))\n",
    "def f(i: Int) = i"
   ]
  },
  {
   "cell_type": "markdown",
   "id": "spanish-hamilton",
   "metadata": {},
   "source": [
    "위 예제에서 `val g = f`로 쓰면 에러가 발생한다. 명시적으로 함수가 기대지 않는 곳에서 =연산자를 이용해 매개변수가 필요한 함수를 대입하였을때 발생하는 에러.\n",
    "\n",
    "f 함수는 명시적으로 인수가 하나 필요해서 위와 같이 쓰지 못한다.\n",
    "\n",
    "val g를 f라는 함수를 나타낸 Function1 객체를 가지게 하는 방법은 `3가지`가 있다.\n",
    "\n",
    "먼저 f를 `def f(i: Int) = i`로 선언하고,\n",
    "1. 위 코드처럼 `val g = f_` 로 쓰는 방법\n",
    "2. `val g: (Int => Int) = f`처럼 반환 자료형을 명시적으로 쓸수있다.\n",
    "3. val g = f를 그대로 두고 f 함수를 `def f = (i: Int) => i` => 를 이용해 객체화된 함수를 이용하는 것이 있다."
   ]
  },
  {
   "cell_type": "code",
   "execution_count": 23,
   "id": "early-better",
   "metadata": {},
   "outputs": [
    {
     "name": "stdout",
     "output_type": "stream",
     "text": [
      "54\n"
     ]
    },
    {
     "data": {
      "text/plain": [
       "result = 54\n"
      ]
     },
     "metadata": {},
     "output_type": "display_data"
    },
    {
     "data": {
      "text/plain": [
       "calc: (f: Int => Int, start: Int, end: Int)Int\n"
      ]
     },
     "metadata": {},
     "output_type": "display_data"
    },
    {
     "data": {
      "text/plain": [
       "54"
      ]
     },
     "execution_count": 23,
     "metadata": {},
     "output_type": "execute_result"
    }
   ],
   "source": [
    "// 재귀식 표현\n",
    "// 파라미터 첫번째는 계산 방식에 대한 함수\n",
    "// 두번째는 처음 값\n",
    "// 세번째는 마지막 값\n",
    "val result = calc(x => x * x, 2, 5)\n",
    "println(result)\n",
    "\n",
    "def calc(f: Int => Int, start: Int, end: Int) = {\n",
    "    def loop(index: Int, sum: Int): Int = {\n",
    "        if (index > end) sum\n",
    "        else loop(index + 1, f(index) + sum)\n",
    "    }\n",
    "    \n",
    "    loop(start, 0)\n",
    "}"
   ]
  },
  {
   "cell_type": "markdown",
   "id": "overhead-forth",
   "metadata": {},
   "source": [
    "위 처럼 x => x * x 처럼 간단하게 쓰는 이유는 해당 코드는 일회성이며, 다른 함수의 인수로 들어가는 것 외에는 다른 용도가 없음.\n",
    "\n",
    "이런 용도로 사용하는 함수는 주로 익명 함수 (이름이 없는 함수) 형태로 쓰인다.\n",
    "\n",
    "위 형태로 만들어두면 나중에 계산식을 바꾸고 싶을때, `내부 로직을 바꿀 필요 없이 파라미터로 전달되는 함수만 바꿔주면 된다.`"
   ]
  },
  {
   "cell_type": "markdown",
   "id": "native-dancing",
   "metadata": {},
   "source": [
    "### 매개 변수가 여러개인 함수"
   ]
  },
  {
   "cell_type": "code",
   "execution_count": 25,
   "id": "disturbed-purple",
   "metadata": {},
   "outputs": [
    {
     "data": {
      "text/plain": [
       "printlnStrings: (args: String*)Unit\n"
      ]
     },
     "metadata": {},
     "output_type": "display_data"
    },
    {
     "name": "stdout",
     "output_type": "stream",
     "text": [
      "a\n",
      "b\n"
     ]
    }
   ],
   "source": [
    "def printlnStrings(args: String*) = {\n",
    "    for (arg <- args) {\n",
    "        println(arg)\n",
    "    }\n",
    "}\n",
    "printlnStrings(\"a\", \"b\")"
   ]
  },
  {
   "cell_type": "markdown",
   "id": "rough-hurricane",
   "metadata": {},
   "source": [
    "### 매개 변수의 기본값 설정"
   ]
  },
  {
   "cell_type": "code",
   "execution_count": 26,
   "id": "revised-milwaukee",
   "metadata": {},
   "outputs": [
    {
     "data": {
      "text/plain": [
       "default: (a: Int, b: Int)Int\n"
      ]
     },
     "metadata": {},
     "output_type": "display_data"
    },
    {
     "data": {
      "text/plain": [
       "9"
      ]
     },
     "execution_count": 26,
     "metadata": {},
     "output_type": "execute_result"
    }
   ],
   "source": [
    "def default(a: Int = 4, b: Int = 5): Int = a + b\n",
    "default()"
   ]
  },
  {
   "cell_type": "markdown",
   "id": "champion-litigation",
   "metadata": {},
   "source": [
    "### apply()\n",
    "\n",
    "apply()를 명시적으로 부르지 않아도 인스턴스를 바로 부르면 apply()가 호출된다."
   ]
  },
  {
   "cell_type": "code",
   "execution_count": 27,
   "id": "sought-lease",
   "metadata": {},
   "outputs": [
    {
     "data": {
      "text/plain": [
       "defined class SomeClass\n",
       "something = SomeClass@563e59b6\n"
      ]
     },
     "metadata": {},
     "output_type": "display_data"
    },
    {
     "data": {
      "text/plain": [
       "4"
      ]
     },
     "execution_count": 27,
     "metadata": {},
     "output_type": "execute_result"
    }
   ],
   "source": [
    "class SomeClass {\n",
    "    def apply(m: Int) = method(m)\n",
    "    def method(i: Int) = i + i\n",
    "    def method2(s: String) = s\n",
    "}\n",
    "\n",
    "val something = new SomeClass\n",
    "something(2)"
   ]
  },
  {
   "cell_type": "markdown",
   "id": "special-thought",
   "metadata": {},
   "source": [
    "### implicit 함수\n",
    "\n",
    "`암묵적인`이라는 사전적 의미가 있으며, 정의가 되어있다면 암묵적으로 사용되 함수의 활용도를 높일수 있다.\n",
    "\n",
    "첫번째 예제는 실패하지만, 두번째 예제는 성공한다.\n",
    "\n",
    "`만약 Double => Int를 수행하는 implicit 함수가 두개라고 한다면, 컴파일이 되지 않는다.`"
   ]
  },
  {
   "cell_type": "code",
   "execution_count": 29,
   "id": "detected-functionality",
   "metadata": {},
   "outputs": [
    {
     "data": {
      "text/plain": [
       "Name: Unknown Error\n",
       "Message: <console>:28: error: type mismatch;\n",
       " found   : Double(18.0)\n",
       " required: Int\n",
       "       val x: Int = 18.0\n",
       "                    ^\n",
       "\n",
       "StackTrace: "
      ]
     },
     "execution_count": 29,
     "metadata": {},
     "output_type": "execute_result"
    }
   ],
   "source": [
    "def doubleToInt(d: Double) = d.toInt\n",
    "val x: Int = 18.0"
   ]
  },
  {
   "cell_type": "code",
   "execution_count": 30,
   "id": "proof-singles",
   "metadata": {},
   "outputs": [
    {
     "data": {
      "text/plain": [
       "x = 18\n"
      ]
     },
     "metadata": {},
     "output_type": "display_data"
    },
    {
     "data": {
      "text/plain": [
       "warning: there was one feature warning; re-run with -feature for details\n",
       "doubleToInt: (d: Double)Int\n"
      ]
     },
     "metadata": {},
     "output_type": "display_data"
    },
    {
     "data": {
      "text/plain": [
       "18"
      ]
     },
     "execution_count": 30,
     "metadata": {},
     "output_type": "execute_result"
    }
   ],
   "source": [
    "implicit def doubleToInt(d: Double) = d.toInt\n",
    "val x: Int = 18.0"
   ]
  },
  {
   "cell_type": "code",
   "execution_count": null,
   "id": "controversial-dance",
   "metadata": {},
   "outputs": [],
   "source": []
  }
 ],
 "metadata": {
  "kernelspec": {
   "display_name": "Scala_Toree-QM-Small",
   "language": "scala",
   "name": "scala_toree-qm-small"
  },
  "language_info": {
   "codemirror_mode": "text/x-scala",
   "file_extension": ".scala",
   "mimetype": "text/x-scala",
   "name": "scala",
   "pygments_lexer": "scala",
   "version": "2.11.12"
  }
 },
 "nbformat": 4,
 "nbformat_minor": 5
}
