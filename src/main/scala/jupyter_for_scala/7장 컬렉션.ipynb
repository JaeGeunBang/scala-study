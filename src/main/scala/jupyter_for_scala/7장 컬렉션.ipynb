{
 "cells": [
  {
   "cell_type": "markdown",
   "id": "threatened-lying",
   "metadata": {},
   "source": [
    "### 배열\n",
    "\n",
    "배열 생성시 new를 굳이 쓰지 않아도 되며, apply() 메서드를 이용해 바로 값을 집어넣어도 에러가 나지 않음"
   ]
  },
  {
   "cell_type": "code",
   "execution_count": 9,
   "id": "atmospheric-nepal",
   "metadata": {},
   "outputs": [
    {
     "data": {
      "text/plain": [
       "array = Array(0, 0, 0, 0, 0, 0, 0, 0, 0, 0)\n",
       "array2 = Array(13, 42, 52, 15, 222)\n",
       "array3 = Array(a, b, c)\n",
       "array4 = Array(13, hi, 1.42)\n"
      ]
     },
     "metadata": {},
     "output_type": "display_data"
    },
    {
     "data": {
      "text/plain": [
       "Array(13, hi, 1.42)"
      ]
     },
     "execution_count": 9,
     "metadata": {},
     "output_type": "execute_result"
    }
   ],
   "source": [
    "val array = new Array[Int](10) // 배열 초기화\n",
    "val array2 = Array(13,42,52,15,222) // 숫자 배열\n",
    "val array3 = Array(\"a\",\"b\",\"c\") // 문자 배열\n",
    "val array4 = Array(13, \"hi\", 1.42) // 섞음"
   ]
  },
  {
   "cell_type": "code",
   "execution_count": 10,
   "id": "straight-purple",
   "metadata": {},
   "outputs": [
    {
     "name": "stdout",
     "output_type": "stream",
     "text": [
      "13\n",
      "hi\n",
      "1.42\n"
     ]
    }
   ],
   "source": [
    "for(x <- array4)\n",
    "    println(x)"
   ]
  },
  {
   "cell_type": "code",
   "execution_count": 35,
   "id": "specified-retention",
   "metadata": {},
   "outputs": [
    {
     "data": {
      "text/plain": [
       "test_array = Array(1, 2, 3)\n"
      ]
     },
     "metadata": {},
     "output_type": "display_data"
    },
    {
     "data": {
      "text/plain": [
       "Array(1, 2, 3, 4)"
      ]
     },
     "execution_count": 35,
     "metadata": {},
     "output_type": "execute_result"
    }
   ],
   "source": [
    "val test_array = Array(1,2,3)\n",
    "test_array :+ 4"
   ]
  },
  {
   "cell_type": "markdown",
   "id": "incomplete-uncle",
   "metadata": {},
   "source": [
    "### 리스트"
   ]
  },
  {
   "cell_type": "code",
   "execution_count": 36,
   "id": "filled-spectacular",
   "metadata": {},
   "outputs": [
    {
     "data": {
      "text/plain": [
       "list = List(a, b, c)\n",
       "list2 = List(a, b, c)\n"
      ]
     },
     "metadata": {},
     "output_type": "display_data"
    },
    {
     "data": {
      "text/plain": [
       "List(a, b, c, d)"
      ]
     },
     "execution_count": 36,
     "metadata": {},
     "output_type": "execute_result"
    }
   ],
   "source": [
    "val list: List[String] = List(\"a\",\"b\",\"c\")\n",
    "val list2 = List(\"a\", \"b\", \"c\")\n",
    "list2(1) // 값을 꺼내고 싶으면 list(index) 형태로 쓴다.\n",
    "list2 :+ \"d\""
   ]
  },
  {
   "cell_type": "markdown",
   "id": "interesting-howard",
   "metadata": {},
   "source": [
    "아래와 같이 스칼라에는 특이한 문법도 있다.\n",
    "\n",
    ":: -> construction (리스트의 각 요소들을 합치기 위함) <br>\n",
    "Nil -> 꼬리 (Nil이 없으면, 에러가 발생한다. 리스트의 끝을 판단해야 하기 때문)\n",
    "\n",
    "::: -> List 끼리 합칠때 사용 (list.concat() 메서드와 동일, ++랑도 같은 기능을 수행)"
   ]
  },
  {
   "cell_type": "code",
   "execution_count": 13,
   "id": "northern-heating",
   "metadata": {},
   "outputs": [
    {
     "data": {
      "text/plain": [
       "list3 = List(a, b, c)\n"
      ]
     },
     "metadata": {},
     "output_type": "display_data"
    },
    {
     "data": {
      "text/plain": [
       "List(a, b, c)"
      ]
     },
     "execution_count": 13,
     "metadata": {},
     "output_type": "execute_result"
    }
   ],
   "source": [
    "val list3 = \"a\" :: \"b\" :: \"c\" :: Nil // List(\"a\", \"b\", \"c\")와 동일"
   ]
  },
  {
   "cell_type": "code",
   "execution_count": 15,
   "id": "imposed-wings",
   "metadata": {},
   "outputs": [
    {
     "name": "stdout",
     "output_type": "stream",
     "text": [
      "a\n",
      "b\n",
      "c\n"
     ]
    }
   ],
   "source": [
    "for(x <- 0 until list3.size)\n",
    "    println(list3(x))"
   ]
  },
  {
   "cell_type": "code",
   "execution_count": 16,
   "id": "natural-lemon",
   "metadata": {},
   "outputs": [
    {
     "data": {
      "text/plain": [
       "merge_list = List(a, b, c, a, b, c)\n"
      ]
     },
     "metadata": {},
     "output_type": "display_data"
    },
    {
     "data": {
      "text/plain": [
       "List(a, b, c, a, b, c)"
      ]
     },
     "execution_count": 16,
     "metadata": {},
     "output_type": "execute_result"
    }
   ],
   "source": [
    "val merge_list = list2 ::: list3"
   ]
  },
  {
   "cell_type": "code",
   "execution_count": 19,
   "id": "whole-dylan",
   "metadata": {},
   "outputs": [
    {
     "name": "stdout",
     "output_type": "stream",
     "text": [
      "1\n",
      "List(2, 3, 4, 3, 2, 1)\n",
      "4\n",
      "1\n",
      "15\n",
      "1,2,3,4,3,2\n",
      "true\n",
      "true\n",
      "true\n",
      "false\n",
      "List(1, 2, 3, 4)\n"
     ]
    },
    {
     "data": {
      "text/plain": [
       "int_list = List(1, 2, 3)\n",
       "int_list2 = List(4, 3, 2)\n",
       "merge_list2 = List(1, 2, 3, 4, 3, 2)\n"
      ]
     },
     "metadata": {},
     "output_type": "display_data"
    },
    {
     "data": {
      "text/plain": [
       "List(1, 2, 3, 4, 3, 2)"
      ]
     },
     "execution_count": 19,
     "metadata": {},
     "output_type": "execute_result"
    }
   ],
   "source": [
    "val int_list = List(1,2,3)\n",
    "val int_list2 = List(4,3,2)\n",
    "val merge_list2 = int_list++int_list2\n",
    "println(merge_list2.apply(0)) // list(i) 와 같은 표현\n",
    "println(merge_list2.reverse)\n",
    "println(merge_list2.max)\n",
    "println(merge_list2.min)\n",
    "println(merge_list2.sum)\n",
    "println(merge_list2.mkString(\",\"))\n",
    "println(merge_list2.exists(a => a > 3))\n",
    "println(merge_list2.exists(_ > 3))\n",
    "println(merge_list2.contains(1))\n",
    "println(merge_list2.isEmpty)\n",
    "println(merge_list2.distinct)"
   ]
  },
  {
   "cell_type": "markdown",
   "id": "isolated-cannon",
   "metadata": {},
   "source": [
    "### 맵"
   ]
  },
  {
   "cell_type": "code",
   "execution_count": 30,
   "id": "hearing-engineering",
   "metadata": {},
   "outputs": [
    {
     "name": "stdout",
     "output_type": "stream",
     "text": [
      "Map(number1 -> aa, number2 -> bb, number3 -> 3)\n",
      "Set(number1, number2, number3)\n",
      "MapLike(aa, bb, 3)\n",
      "aa\n"
     ]
    },
    {
     "data": {
      "text/plain": [
       "map = Map(number1 -> aa, number2 -> bb, number3 -> 3)\n"
      ]
     },
     "metadata": {},
     "output_type": "display_data"
    },
    {
     "data": {
      "text/plain": [
       "Map(number1 -> aa, number2 -> bb, number3 -> 3)"
      ]
     },
     "execution_count": 30,
     "metadata": {},
     "output_type": "execute_result"
    }
   ],
   "source": [
    "var map = Map(\n",
    "    \"number1\" -> \"aa\",\n",
    "    \"number2\" -> \"bb\",\n",
    "    \"number3\" -> 3\n",
    ") // var로 선언해주어야 map에 insert, delete가 됨 (map만 그런가? list, array는 잘 추가되는것 같음)\n",
    "\n",
    "println(map)\n",
    "println(map.keys)\n",
    "println(map.values)\n",
    "println(map(\"number1\")) // .get(\"number1\") 형태로도 사용 가능"
   ]
  },
  {
   "cell_type": "markdown",
   "id": "younger-application",
   "metadata": {},
   "source": [
    "map(\"number1\")는 map.get(\"number1\") 형태로도 사용이 가능 하지만 차이가 있다.\n",
    "- map(\"number1\")는 값이 없다면 예외가 발생한다.\n",
    "- .get(\"number1\")는 자동으로 Option 객체로 래핑되므로 값이 없다면 None이 반환"
   ]
  },
  {
   "cell_type": "code",
   "execution_count": 31,
   "id": "bigger-budget",
   "metadata": {},
   "outputs": [],
   "source": [
    "map += (\"number4\" -> \"this is the fifth value\") "
   ]
  },
  {
   "cell_type": "code",
   "execution_count": 32,
   "id": "necessary-secretary",
   "metadata": {},
   "outputs": [],
   "source": [
    "map -= \"number5\""
   ]
  },
  {
   "cell_type": "markdown",
   "id": "medical-genome",
   "metadata": {},
   "source": [
    "### 집합"
   ]
  },
  {
   "cell_type": "code",
   "execution_count": 39,
   "id": "moral-forwarding",
   "metadata": {},
   "outputs": [
    {
     "data": {
      "text/plain": [
       "basket = Set(딸기, 포도)\n"
      ]
     },
     "metadata": {},
     "output_type": "display_data"
    },
    {
     "data": {
      "text/plain": [
       "Set(딸기, 포도)"
      ]
     },
     "execution_count": 39,
     "metadata": {},
     "output_type": "execute_result"
    }
   ],
   "source": [
    "var basket: Set[String] = Set()\n",
    "basket += \"딸기\"\n",
    "basket += \"포도\"\n",
    "basket += \"포도\""
   ]
  },
  {
   "cell_type": "markdown",
   "id": "material-trunk",
   "metadata": {},
   "source": [
    "### 튜플"
   ]
  },
  {
   "cell_type": "code",
   "execution_count": 41,
   "id": "hawaiian-forwarding",
   "metadata": {},
   "outputs": [
    {
     "data": {
      "text/plain": [
       "tuple = (1,test)\n",
       "tuple2 = (2,test2)\n"
      ]
     },
     "metadata": {},
     "output_type": "display_data"
    },
    {
     "data": {
      "text/plain": [
       "1"
      ]
     },
     "execution_count": 41,
     "metadata": {},
     "output_type": "execute_result"
    }
   ],
   "source": [
    "val tuple = (1, \"test\")\n",
    "val tuple2 = (2, \"test2\")\n",
    "tuple._1"
   ]
  },
  {
   "cell_type": "markdown",
   "id": "mounted-payday",
   "metadata": {},
   "source": [
    "### 옵션\n",
    "\n",
    "옵션은 None, Some() 중 하나를 가진다.\n",
    "\n",
    "예를 들어 맵을 통해 데이터를 가져올떄, 해당 데이터가 있다면 Some(), 없다면 None을 반환한다.\n",
    "\n",
    "유용하게 쓰이는 경우는, 패턴 매칭을 할때 쓰인다."
   ]
  },
  {
   "cell_type": "code",
   "execution_count": 45,
   "id": "electoral-monitoring",
   "metadata": {},
   "outputs": [
    {
     "data": {
      "text/plain": [
       "map = Map(number1 -> aa, number2 -> bb, number3 -> 3)\n",
       "one = Some(aa)\n",
       "three = Some(3)\n",
       "four = None\n",
       "four2 = 값이 없습니다\n"
      ]
     },
     "metadata": {},
     "output_type": "display_data"
    },
    {
     "data": {
      "text/plain": [
       "값이 없습니다"
      ]
     },
     "execution_count": 45,
     "metadata": {},
     "output_type": "execute_result"
    }
   ],
   "source": [
    "var map = Map(\n",
    "    \"number1\" -> \"aa\",\n",
    "    \"number2\" -> \"bb\",\n",
    "    \"number3\" -> 3\n",
    ")\n",
    "\n",
    "val one = map.get(\"number1\")\n",
    "val three = map.get(\"number3\")\n",
    "val four = map.get(\"number4\")\n",
    "val four2 = map.get(\"number4\").getOrElse(\"값이 없습니다\")"
   ]
  },
  {
   "cell_type": "markdown",
   "id": "average-mattress",
   "metadata": {},
   "source": [
    "### 시퀀스\n",
    "리스트와 거의 같지만, 요소 간 순서가 있음\n",
    "\n",
    "리스트는 순서에 특화되어 있지 않고, 인덱스 기능을 사용하려면 zipWithIndex라는 기능을 통해 튜플로 래핑해줘야함\n",
    "\n",
    "시퀀스는 내부적으로 인덱스에 대한 정보를 가지므로, 인덱스를 같이 써야할때 사용한다."
   ]
  },
  {
   "cell_type": "code",
   "execution_count": 53,
   "id": "awful-furniture",
   "metadata": {},
   "outputs": [
    {
     "data": {
      "text/plain": [
       "seq = List(1, 3, 4)\n"
      ]
     },
     "metadata": {},
     "output_type": "display_data"
    },
    {
     "data": {
      "text/plain": [
       "List(1, 3, 4)"
      ]
     },
     "execution_count": 53,
     "metadata": {},
     "output_type": "execute_result"
    }
   ],
   "source": [
    "val seq = Seq(1,3,4)\n",
    "// 반환된 것이 리스트임에 유의하라. Seq는 트레잇이다. \n",
    "// 리스트는 Seq를 잘 구현하고 있다. 여기서 볼 수 있듯 Seq라 불리는 팩토리 객체가 있어서 리스트를 만들어준다."
   ]
  },
  {
   "cell_type": "markdown",
   "id": "dated-acoustic",
   "metadata": {},
   "source": [
    "### 이터레이터"
   ]
  },
  {
   "cell_type": "code",
   "execution_count": 52,
   "id": "medium-relay",
   "metadata": {},
   "outputs": [
    {
     "name": "stdout",
     "output_type": "stream",
     "text": [
      "a\n",
      "b\n",
      "c\n"
     ]
    },
    {
     "data": {
      "text/plain": [
       "list = List(a, b, c)\n",
       "i = empty iterator\n"
      ]
     },
     "metadata": {},
     "output_type": "display_data"
    },
    {
     "data": {
      "text/plain": [
       "empty iterator"
      ]
     },
     "execution_count": 52,
     "metadata": {},
     "output_type": "execute_result"
    }
   ],
   "source": [
    "val list = List(\"a\", \"b\", \"c\")\n",
    "val i = list.iterator\n",
    "while(i.hasNext)\n",
    "    println(i.next)"
   ]
  },
  {
   "cell_type": "code",
   "execution_count": null,
   "id": "anonymous-graphic",
   "metadata": {},
   "outputs": [],
   "source": []
  }
 ],
 "metadata": {
  "kernelspec": {
   "display_name": "Scala_Toree-QM-Small",
   "language": "scala",
   "name": "scala_toree-qm-small"
  },
  "language_info": {
   "codemirror_mode": "text/x-scala",
   "file_extension": ".scala",
   "mimetype": "text/x-scala",
   "name": "scala",
   "pygments_lexer": "scala",
   "version": "2.11.12"
  }
 },
 "nbformat": 4,
 "nbformat_minor": 5
}
