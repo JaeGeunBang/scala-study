{
 "cells": [
  {
   "cell_type": "markdown",
   "id": "removable-river",
   "metadata": {},
   "source": [
    "### 조건문: if / else\n",
    "\n",
    "```scala\n",
    "if(조건) {실행문}\n",
    "else if(조건) {실행문}\n",
    "else {실행문}\n",
    "```"
   ]
  },
  {
   "cell_type": "code",
   "execution_count": 1,
   "id": "instrumental-brown",
   "metadata": {},
   "outputs": [
    {
     "data": {
      "text/plain": [
       "defined object Ex_3_1\n"
      ]
     },
     "metadata": {},
     "output_type": "display_data"
    }
   ],
   "source": [
    "object Ex_3_1 {\n",
    "    def main(args: Array[String]): Unit = {\n",
    "        var x = 20\n",
    "        if ( x > 15 ) {\n",
    "            println(\"15보다 큽니다\")\n",
    "            println(\"껄껄껄\")\n",
    "        } else if ( x < 15 ) {\n",
    "            println(\"15보다 작습니다\")\n",
    "        } else {\n",
    "            println(\"뭘까요\")\n",
    "        }\n",
    "    }\n",
    "}"
   ]
  },
  {
   "cell_type": "code",
   "execution_count": 2,
   "id": "polished-sherman",
   "metadata": {},
   "outputs": [
    {
     "name": "stdout",
     "output_type": "stream",
     "text": [
      "15보다 큽니다\n",
      "껄껄껄\n"
     ]
    }
   ],
   "source": [
    "Ex_3_1.main(Array())"
   ]
  },
  {
   "cell_type": "code",
   "execution_count": 3,
   "id": "minor-landscape",
   "metadata": {},
   "outputs": [
    {
     "data": {
      "text/plain": [
       "defined object Ex_3_2\n"
      ]
     },
     "metadata": {},
     "output_type": "display_data"
    }
   ],
   "source": [
    "object Ex_3_2 {\n",
    "    def main(args: Array[String]): Unit = {\n",
    "        var x = 20\n",
    "        if ( x > 15 ) println(\"껄껄껄2\")\n",
    "    }\n",
    "}"
   ]
  },
  {
   "cell_type": "code",
   "execution_count": 4,
   "id": "usual-decimal",
   "metadata": {},
   "outputs": [
    {
     "name": "stdout",
     "output_type": "stream",
     "text": [
      "껄껄껄2\n"
     ]
    }
   ],
   "source": [
    "Ex_3_2.main(Array())"
   ]
  },
  {
   "cell_type": "markdown",
   "id": "unknown-mistress",
   "metadata": {},
   "source": [
    "### 반복문: for\n",
    "\n",
    "x의 변수 선언을 선언하지 않아도 자동으로 x를 for 문안에 쓸수 있다.\n",
    "\n",
    "to는 1~10까지 반복하겠다는 의미. 이는 until에서도 쓸수있다.\n",
    "\n",
    "until, to의 차이점?\n",
    "- to는 이하, until은 미만"
   ]
  },
  {
   "cell_type": "code",
   "execution_count": 43,
   "id": "eastern-oriental",
   "metadata": {},
   "outputs": [
    {
     "data": {
      "text/plain": [
       "defined object Ex_3_3\n"
      ]
     },
     "metadata": {},
     "output_type": "display_data"
    }
   ],
   "source": [
    "object Ex_3_3 {\n",
    "    def main(args: Array[String]): Unit = {\n",
    "        for( x <- 1 to 10 by 2)\n",
    "            println(\"x 의 값은\" + x)\n",
    "    }\n",
    "}"
   ]
  },
  {
   "cell_type": "code",
   "execution_count": 44,
   "id": "international-champagne",
   "metadata": {},
   "outputs": [
    {
     "name": "stdout",
     "output_type": "stream",
     "text": [
      "x 의 값은1\n",
      "x 의 값은3\n",
      "x 의 값은5\n",
      "x 의 값은7\n",
      "x 의 값은9\n"
     ]
    }
   ],
   "source": [
    "Ex_3_3.main(Array())"
   ]
  },
  {
   "cell_type": "code",
   "execution_count": 10,
   "id": "dental-execution",
   "metadata": {},
   "outputs": [
    {
     "data": {
      "text/plain": [
       "defined object Ex_3_4\n"
      ]
     },
     "metadata": {},
     "output_type": "display_data"
    },
    {
     "name": "stdout",
     "output_type": "stream",
     "text": [
      "x 의 값은1\n",
      "x 의 값은2\n",
      "x 의 값은3\n",
      "x 의 값은4\n",
      "x 의 값은5\n",
      "x 의 값은6\n",
      "x 의 값은7\n",
      "x 의 값은8\n",
      "x 의 값은9\n"
     ]
    }
   ],
   "source": [
    "object Ex_3_4 {\n",
    "    def main(args: Array[String]): Unit = {\n",
    "        for(x <- 1 until 10)\n",
    "            println(\"x 의 값은\" + x)\n",
    "    }\n",
    "}\n",
    "Ex_3_4.main(Array())"
   ]
  },
  {
   "cell_type": "markdown",
   "id": "hired-brief",
   "metadata": {},
   "source": [
    "### 반복문: while, do while\n",
    "\n",
    "스칼라는 참고로 `a++`과 같은 표현이 없다. 왜냐하면 변경불가능한 접근이 아니기 때문이다. a++ 자체가 a자체를 변경을 가하는 일이다.\n"
   ]
  },
  {
   "cell_type": "code",
   "execution_count": 12,
   "id": "engaging-plant",
   "metadata": {},
   "outputs": [
    {
     "data": {
      "text/plain": [
       "defined object Ex_3_5\n"
      ]
     },
     "metadata": {},
     "output_type": "display_data"
    },
    {
     "name": "stdout",
     "output_type": "stream",
     "text": [
      "0,1,2,3,4,5,6,7,8,9,10,11,12,13,14,15,16,17,18,19,"
     ]
    }
   ],
   "source": [
    "object Ex_3_5 {\n",
    "    def main(args: Array[String]): Unit = {\n",
    "        var a = 0\n",
    "        \n",
    "        while( a < 20) {\n",
    "            print(a + \",\")\n",
    "            a = a + 1\n",
    "        }\n",
    "    }\n",
    "}\n",
    "Ex_3_5.main(Array())"
   ]
  },
  {
   "cell_type": "code",
   "execution_count": 14,
   "id": "compatible-wallpaper",
   "metadata": {},
   "outputs": [
    {
     "data": {
      "text/plain": [
       "defined object Ex_3_6\n"
      ]
     },
     "metadata": {},
     "output_type": "display_data"
    },
    {
     "name": "stdout",
     "output_type": "stream",
     "text": [
      "0,1,2,3,4,5,6,7,8,9,10,11,12,13,14,15,16,17,18,19,"
     ]
    }
   ],
   "source": [
    "object Ex_3_6 {\n",
    "    def main(args: Array[String]): Unit = {\n",
    "        var a = 0\n",
    "        \n",
    "        do {\n",
    "            print(a + \",\")\n",
    "            a = a + 1\n",
    "        }while( a < 20)\n",
    "    }\n",
    "}\n",
    "Ex_3_6.main(Array())"
   ]
  },
  {
   "cell_type": "markdown",
   "id": "about-alexandria",
   "metadata": {},
   "source": [
    "### 스칼라식의 이중 for\n",
    "\n",
    "2개의 for를 쓸필요가 없다."
   ]
  },
  {
   "cell_type": "code",
   "execution_count": 17,
   "id": "split-seafood",
   "metadata": {},
   "outputs": [
    {
     "data": {
      "text/plain": [
       "defined object Ex_3_8\n"
      ]
     },
     "metadata": {},
     "output_type": "display_data"
    },
    {
     "name": "stdout",
     "output_type": "stream",
     "text": [
      "1 * 1 = 1\n",
      "1 * 2 = 2\n",
      "1 * 3 = 3\n",
      "1 * 4 = 4\n",
      "2 * 1 = 2\n",
      "2 * 2 = 4\n",
      "2 * 3 = 6\n",
      "2 * 4 = 8\n",
      "3 * 1 = 3\n",
      "3 * 2 = 6\n",
      "3 * 3 = 9\n",
      "3 * 4 = 12\n",
      "4 * 1 = 4\n",
      "4 * 2 = 8\n",
      "4 * 3 = 12\n",
      "4 * 4 = 16\n"
     ]
    }
   ],
   "source": [
    "object Ex_3_8 {\n",
    "    def main(args: Array[String]): Unit = {\n",
    "        for (x <- 1 until 5; y <- 1 until 5) {\n",
    "            print(x + \" * \" + y + \" = \" + x * y + \"\\n\")\n",
    "        }\n",
    "    }\n",
    "}\n",
    "Ex_3_8.main(Array())"
   ]
  },
  {
   "cell_type": "markdown",
   "id": "processed-artist",
   "metadata": {},
   "source": [
    "### 조건이 있는 반복\n",
    "\n",
    "지저분하게 루프 안에 if 문으로 감쌀 필요가 없다."
   ]
  },
  {
   "cell_type": "code",
   "execution_count": 19,
   "id": "behavioral-implementation",
   "metadata": {},
   "outputs": [
    {
     "data": {
      "text/plain": [
       "defined object Ex_3_9\n"
      ]
     },
     "metadata": {},
     "output_type": "display_data"
    },
    {
     "name": "stdout",
     "output_type": "stream",
     "text": [
      "2\n",
      "4\n",
      "6\n",
      "8\n",
      "10\n"
     ]
    }
   ],
   "source": [
    "object Ex_3_9 {\n",
    "    def main(args: Array[String]): Unit = {\n",
    "        for (i <- (1 to 10) if (i % 2 == 0)) {\n",
    "            println(i)\n",
    "        }\n",
    "    }\n",
    "}\n",
    "Ex_3_9.main(Array())"
   ]
  },
  {
   "cell_type": "markdown",
   "id": "important-warehouse",
   "metadata": {},
   "source": [
    "### 인덱스가 있는 for\n",
    "\n",
    "간혹 반복문에서 index가 필요할때가 있음"
   ]
  },
  {
   "cell_type": "code",
   "execution_count": 29,
   "id": "continued-finance",
   "metadata": {},
   "outputs": [
    {
     "data": {
      "text/plain": [
       "defined object Ex_3_10\n"
      ]
     },
     "metadata": {},
     "output_type": "display_data"
    },
    {
     "name": "stdout",
     "output_type": "stream",
     "text": [
      "1, 0\n",
      "2, 1\n",
      "3, 2\n",
      "4, 3\n"
     ]
    }
   ],
   "source": [
    "object Ex_3_10 {\n",
    "    def main(args: Array[String]): Unit = {\n",
    "        val list = List(1,2,3,4)\n",
    "        for ((num, index) <- list.zipWithIndex) {\n",
    "            print(num + \", \")\n",
    "            println(index)\n",
    "        }\n",
    "    }\n",
    "}\n",
    "Ex_3_10.main(Array())"
   ]
  },
  {
   "cell_type": "code",
   "execution_count": null,
   "id": "filled-fishing",
   "metadata": {},
   "outputs": [],
   "source": []
  }
 ],
 "metadata": {
  "kernelspec": {
   "display_name": "Scala_Toree-QM-Small",
   "language": "scala",
   "name": "scala_toree-qm-small"
  },
  "language_info": {
   "codemirror_mode": "text/x-scala",
   "file_extension": ".scala",
   "mimetype": "text/x-scala",
   "name": "scala",
   "pygments_lexer": "scala",
   "version": "2.11.12"
  }
 },
 "nbformat": 4,
 "nbformat_minor": 5
}
