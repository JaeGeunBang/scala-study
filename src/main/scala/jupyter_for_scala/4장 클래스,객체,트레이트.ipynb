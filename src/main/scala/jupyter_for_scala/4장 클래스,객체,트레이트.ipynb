{
 "cells": [
  {
   "cell_type": "markdown",
   "id": "statewide-forestry",
   "metadata": {},
   "source": [
    "### 클래스, 객체\n"
   ]
  },
  {
   "cell_type": "code",
   "execution_count": 2,
   "id": "dirty-prisoner",
   "metadata": {},
   "outputs": [
    {
     "data": {
      "text/plain": [
       "defined class User\n",
       "user7 = User@632eb6ce\n",
       "user8 = User@6b9fdf20\n"
      ]
     },
     "metadata": {},
     "output_type": "display_data"
    },
    {
     "data": {
      "text/plain": [
       "User@6b9fdf20"
      ]
     },
     "execution_count": 2,
     "metadata": {},
     "output_type": "execute_result"
    }
   ],
   "source": [
    "class User (name: String, age: Int, sex: Char)\n",
    "\n",
    "val user7 = new User(\"김말자\", 27, 'f')\n",
    "val user8 = new User(\"임말자\", 27, 'f')"
   ]
  },
  {
   "cell_type": "markdown",
   "id": "military-cruise",
   "metadata": {},
   "source": [
    "스칼라에서 객체 생성 방법은 2가지가 있다.\n",
    "- 클래스를 통한 인스턴스화 (붕어빵틀로 붕어빵 만드는것)\n",
    "- object 예약어를 통해 객체를 바로 생성 (붕어빵을 수제로 잘 빚어서 유일한 붕어빵을 만드는것)\n",
    "  - new를 쓸필요 없이 바로 호출 가능. 객체 내 모든 멤버들은 static 형태를 지닌다."
   ]
  },
  {
   "cell_type": "code",
   "execution_count": 3,
   "id": "portable-respect",
   "metadata": {},
   "outputs": [
    {
     "data": {
      "text/plain": [
       "defined class A\n",
       "real1 = A@d16a4f7\n",
       "real2 = A@6909943d\n",
       "defined object A\n"
      ]
     },
     "metadata": {},
     "output_type": "display_data"
    },
    {
     "data": {
      "text/plain": [
       "A@6909943d"
      ]
     },
     "execution_count": 3,
     "metadata": {},
     "output_type": "execute_result"
    }
   ],
   "source": [
    "class A // A 클래스는 하나의 틀\n",
    "val real1 = new A // A를 통해 real1이라는 객체 생성\n",
    "val real2 = new A // A를 통해 real2이라는 객체 생성\n",
    "\n",
    "object A // A는 그 자체가 객체"
   ]
  },
  {
   "cell_type": "code",
   "execution_count": 4,
   "id": "impossible-manhattan",
   "metadata": {},
   "outputs": [
    {
     "name": "stdout",
     "output_type": "stream",
     "text": [
      "10000\n",
      "expensive hood\n"
     ]
    },
    {
     "data": {
      "text/plain": [
       "defined class Vehicle\n",
       "car = Vehicle@2a052c91\n"
      ]
     },
     "metadata": {},
     "output_type": "display_data"
    },
    {
     "data": {
      "text/plain": [
       "Vehicle@2a052c91"
      ]
     },
     "execution_count": 4,
     "metadata": {},
     "output_type": "execute_result"
    }
   ],
   "source": [
    "class Vehicle() {\n",
    "    var price: Int = 10000\n",
    "    var hood: String = \"expensive hood\"\n",
    "}\n",
    "\n",
    "val car = new Vehicle()\n",
    "println(car.price)\n",
    "println(car.hood)"
   ]
  },
  {
   "cell_type": "markdown",
   "id": "married-things",
   "metadata": {},
   "source": [
    "### 스칼라에는 static이 없다.\n",
    "자바에서 public static void main()이 필요하지만, 스칼라는 object 예약어를 통해 아예 처음부터 메모리에 객체를 생성하고, 컴파일러는 이 실물안에 main 이라는 이름이 있다면 이를 프로그램의 시작점으로 생각하고 컴파일한다.\n",
    "\n",
    "### 스칼라에는 생성자가 없다.\n",
    "보통 생성자를 통해, 클래스 인스턴스화시 값을 초기화 하지만, 스칼라는 필요없다."
   ]
  },
  {
   "cell_type": "code",
   "execution_count": 8,
   "id": "focused-chamber",
   "metadata": {},
   "outputs": [
    {
     "data": {
      "text/plain": [
       "Name: Compile Error\n",
       "Message: <console>:19: error: value name is not a member of Fruit\n",
       "               println(apple.name)\n",
       "                             ^\n",
       "\n",
       "StackTrace: "
      ]
     },
     "execution_count": 8,
     "metadata": {},
     "output_type": "execute_result"
    }
   ],
   "source": [
    "object Ex_4_2 {\n",
    "    def main(args: Array[String]): Unit = {\n",
    "        val apple = new Fruit(\"사과\")\n",
    "        println(apple.name)\n",
    "    }\n",
    "}\n",
    "\n",
    "class Fruit(input: String) {\n",
    "    var name = input\n",
    "}\n",
    "\n",
    "Ex_4_2.main(Array())"
   ]
  },
  {
   "cell_type": "markdown",
   "id": "little-screw",
   "metadata": {},
   "source": [
    "### 위 방식보다 더 간단하게 사용\n",
    "\n",
    "아래와 같이 간단하게 선언도 할수있다.\n",
    "```scala\n",
    "class Fruit(name: String)\n",
    "```\n",
    "허나 위 방식으로 만들면, 멤버 변수는 모두 private으로 생성되어 외부에서 접근할수 없다.\n",
    "\n",
    "get, set이 필요한데 이러면 스칼라의 철학과 맞지 않아 이럴때 case class를 사용한다.\n",
    "\n",
    "```scala\n",
    "case class Fruid(name: String)\n",
    "```\n",
    "\n",
    "`case class` 는 기존 클래스보다 좀더 기능이 확장된 클래스로, 자동으로 name이라는 멤버 변수를 만들어주며 외부에서도 언제든지 접근할수 있게 한다.\n",
    "\n",
    "또한, 객체의 정보를 알수있는 toString, 그 밖에 자주 오버라이드하는 hashCode, equals 메서드를 알아서 생성해준다."
   ]
  },
  {
   "cell_type": "code",
   "execution_count": 17,
   "id": "palestinian-present",
   "metadata": {},
   "outputs": [
    {
     "data": {
      "text/plain": [
       "Name: Compile Error\n",
       "Message: <console>:22: error: value name is not a member of Fruit\n",
       "       println(apple.name)\n",
       "                     ^\n",
       "\n",
       "StackTrace: "
      ]
     },
     "execution_count": 17,
     "metadata": {},
     "output_type": "execute_result"
    }
   ],
   "source": [
    "// 에러 발생 (일반 클래스)\n",
    "class Fruit(name: String)\n",
    "val apple = new Fruit(\"사과2\")\n",
    "println(apple.name)"
   ]
  },
  {
   "cell_type": "code",
   "execution_count": 18,
   "id": "fresh-arthritis",
   "metadata": {},
   "outputs": [
    {
     "name": "stdout",
     "output_type": "stream",
     "text": [
      "사과2\n"
     ]
    },
    {
     "data": {
      "text/plain": [
       "defined class Fruit\n",
       "apple = Fruit(사과2)\n"
      ]
     },
     "metadata": {},
     "output_type": "display_data"
    },
    {
     "data": {
      "text/plain": [
       "Fruit(사과2)"
      ]
     },
     "execution_count": 18,
     "metadata": {},
     "output_type": "execute_result"
    }
   ],
   "source": [
    "// 정상 동작 (case class)\n",
    "case class Fruit(name: String)\n",
    "val apple = new Fruit(\"사과2\")\n",
    "println(apple.name)"
   ]
  },
  {
   "cell_type": "markdown",
   "id": "bearing-affect",
   "metadata": {},
   "source": [
    "### 상속"
   ]
  },
  {
   "cell_type": "code",
   "execution_count": 21,
   "id": "selected-telling",
   "metadata": {},
   "outputs": [
    {
     "data": {
      "text/plain": [
       "defined class User\n",
       "defined class PaidUser\n",
       "defined object Ex_4_4\n"
      ]
     },
     "metadata": {},
     "output_type": "display_data"
    },
    {
     "data": {
      "text/plain": [
       "<console>:25: warning: a pure expression does nothing in statement position; you may be omitting necessary parentheses\n",
       "               richUser.sayName\n",
       "                        ^\n"
      ]
     },
     "metadata": {},
     "output_type": "display_data"
    },
    {
     "name": "stdout",
     "output_type": "stream",
     "text": [
      "제 이름은 고말자\n",
      "10000 원이 있습니다\n"
     ]
    }
   ],
   "source": [
    "class User(name: String, age: Int, sex: Char) {\n",
    "    val sayName = println(\"제 이름은 \" + name)\n",
    "}\n",
    "\n",
    "class PaidUser(name: String, age: Int, sex: Char, money: Int) extends User(name, age, sex) {\n",
    "    val showMoney = println(money + \" 원이 있습니다\")\n",
    "}\n",
    "\n",
    "object Ex_4_4 {\n",
    "    def main(args: Array[String]): Unit = {\n",
    "        val richUser = new PaidUser(\"고말자\", 20, 'M', 10000)\n",
    "        richUser.sayName\n",
    "        richUser.showMoney\n",
    "    }\n",
    "}\n",
    "\n",
    "Ex_4_4.main(Array())"
   ]
  },
  {
   "cell_type": "markdown",
   "id": "congressional-pipeline",
   "metadata": {},
   "source": [
    "### 트레이트, 추상 클래스\n",
    "\n",
    "트레이트\n",
    "- 메서드 구현 O\n",
    "- 다중 상속 O (믹스인)\n",
    "- 변수 선언 O\n",
    "- 인스턴스 생성 X\n",
    "\n",
    "추상클래스\n",
    "- 메서드 구현 O\n",
    "- 다중 상속 X\n",
    "- 변수 선언 O\n",
    "- 인스턴스 생성 X\n",
    "\n",
    "인터페이스\n",
    "- 메서드 구현 X\n",
    "- 다중 상속 O\n",
    "- 변수 선언 X\n",
    "- 인스턴스 생성 X "
   ]
  },
  {
   "cell_type": "code",
   "execution_count": 24,
   "id": "stainless-television",
   "metadata": {},
   "outputs": [
    {
     "name": "stdout",
     "output_type": "stream",
     "text": [
      "수영을 합니다. 촤아\n",
      "납니다. 휘리릭\n",
      "먹습니다 쩝쩝\n"
     ]
    },
    {
     "data": {
      "text/plain": [
       "defined trait Swimming\n",
       "defined trait Flying\n",
       "defined trait Running\n",
       "defined trait Eating\n",
       "defined class Animal\n",
       "flyingWhale = Animal@6111b2c7\n",
       "defined class Animal2\n",
       "pig = Animal2@3cf678df\n"
      ]
     },
     "metadata": {},
     "output_type": "display_data"
    },
    {
     "data": {
      "text/plain": [
       "Animal2@3cf678df"
      ]
     },
     "execution_count": 24,
     "metadata": {},
     "output_type": "execute_result"
    }
   ],
   "source": [
    "trait Swimming {\n",
    "    def swim = println(\"수영을 합니다. 촤아\")\n",
    "}\n",
    "\n",
    "trait Flying {\n",
    "    def fly = println(\"납니다. 휘리릭\")\n",
    "}\n",
    "\n",
    "trait Running {\n",
    "    def run = println(\"달립니다 슈웅\")\n",
    "}\n",
    "\n",
    "trait Eating {\n",
    "    def eat\n",
    "}\n",
    "\n",
    "class Animal extends Flying with Swimming\n",
    "val flyingWhale = new Animal\n",
    "flyingWhale.swim\n",
    "flyingWhale.fly\n",
    "\n",
    "class Animal2 extends Eating {\n",
    "    def eat = println(\"먹습니다 쩝쩝\")\n",
    "}\n",
    "\n",
    "\n",
    "val pig = new Animal2\n",
    "pig.eat"
   ]
  },
  {
   "cell_type": "code",
   "execution_count": 26,
   "id": "delayed-alignment",
   "metadata": {},
   "outputs": [
    {
     "data": {
      "text/plain": [
       "defined class Animal\n"
      ]
     },
     "metadata": {},
     "output_type": "display_data"
    }
   ],
   "source": [
    "// 오버라이드할수도 있음\n",
    "class Animal extends Flying with Swimming {\n",
    "    override def fly = println(\"오버라이드된 메서드\")\n",
    "}"
   ]
  },
  {
   "cell_type": "markdown",
   "id": "consecutive-composite",
   "metadata": {},
   "source": [
    "트레이트와 추상 클래스는 경쟁보단 궁합에 맞게 쓰면 된다.\n",
    "\n",
    "지금까지 코드에서는 Animal 클래스에 트레이트를 추가해서 썼지만, 그다지 깔끔해 보이지 않고 이를 추상클래스로 더 깔끔하게 만들수 있다."
   ]
  },
  {
   "cell_type": "code",
   "execution_count": 28,
   "id": "virgin-entrance",
   "metadata": {},
   "outputs": [
    {
     "name": "stdout",
     "output_type": "stream",
     "text": [
      "쩝쩝\n",
      "꿀꿀\n",
      "납니다. 휘리릭\n"
     ]
    },
    {
     "data": {
      "text/plain": [
       "defined class Animal\n",
       "defined class Pig\n",
       "pig = Pig@2511aada\n"
      ]
     },
     "metadata": {},
     "output_type": "display_data"
    },
    {
     "data": {
      "text/plain": [
       "Pig@2511aada"
      ]
     },
     "execution_count": 28,
     "metadata": {},
     "output_type": "execute_result"
    }
   ],
   "source": [
    "abstract class Animal {\n",
    "    def shout\n",
    "}\n",
    "\n",
    "class Pig extends Animal with Flying with Eating {\n",
    "    def shout = println(\"꿀꿀\")\n",
    "    def eat = println(\"쩝쩝\")\n",
    "}\n",
    "\n",
    "val pig = new Pig\n",
    "pig.eat\n",
    "pig.shout\n",
    "pig.fly"
   ]
  },
  {
   "cell_type": "markdown",
   "id": "dressed-jungle",
   "metadata": {},
   "source": [
    "## 트레이트 쌓기\n",
    "\n",
    "결론적으로 트레이트는 다중상속을 제외하고 추상 클래스와 다를바가 없음. 결론적으로 추상 클래스와 인터페이스의 중간쯤\n",
    "\n",
    "자바에서는 추상클래스, 인터페이스를 왜 두개나 만들었냐면.. 다이아몬드 상속 때문\n",
    "- 다중 상속 받을때, 여러 클래스들에 실제 메서드가 구현되어 있을수 있어, 실제로 메서드가 구현되어 있는 클래스는 하나만 상속 받을수 있음\n",
    "\n",
    "스칼라는 이러한 문제를 정면 대응한다. 필요하면 B, C 클래스의 메서드를 `둘 중 하나만 실행`하거나, `모두의 기능을 실행`하거나, `재구현`할수도 있다."
   ]
  },
  {
   "cell_type": "code",
   "execution_count": 33,
   "id": "caring-ensemble",
   "metadata": {},
   "outputs": [
    {
     "data": {
      "text/plain": [
       "Name: Compile Error\n",
       "Message: <console>:13: error: class Mazinga inherits conflicting members:\n",
       "  method shoot in trait Bazooka of type => String  and\n",
       "  method shoot in trait Daepodong of type => String\n",
       "(Note: this can be resolved by declaring an override in class Mazinga.)\n",
       "       class Mazinga extends Robot with M16 with Bazooka with Daepodong\n",
       "             ^\n",
       "\n",
       "StackTrace: "
      ]
     },
     "execution_count": 33,
     "metadata": {},
     "output_type": "execute_result"
    }
   ],
   "source": [
    "class Mazinga extends Robot with M16 with Bazooka with Daepodong\n",
    "\n",
    "abstract class Robot {\n",
    "    def shoot = \"뿅\"\n",
    "}\n",
    "\n",
    "trait M16 {\n",
    "    def shoot = \"빵야\"\n",
    "}\n",
    "\n",
    "trait Bazooka {\n",
    "    def shoot = \"뿌아앙\"\n",
    "}\n",
    "\n",
    "trait Daepodong {\n",
    "    def shoot = \"콰르릉\"\n",
    "}\n",
    "\n",
    "\n",
    "val robot = new Mazinga\n",
    "println(robot.shoot)\n",
    "\n",
    "// 위 상황은 실행되지 않는다. 왜냐면 클래스 mazinga는 어디에 있는 shoot을 사용해야할지 파악할수가 없다.\n",
    "// 이는 override 예약어를 통해 적당한 상속 관계를 만들어주어야 한다."
   ]
  },
  {
   "cell_type": "code",
   "execution_count": 32,
   "id": "signal-child",
   "metadata": {},
   "outputs": [
    {
     "data": {
      "text/plain": [
       "Name: Compile Error\n",
       "Message: <console>:13: error: overriding method shoot in trait Bazooka of type => String;\n",
       " method shoot in trait Daepodong of type => String cannot override a concrete member without a third member that's overridden by both (this rule is designed to prevent ``accidental overrides'')\n",
       "       class Mazinga extends Robot with M16 with Bazooka with Daepodong\n",
       "             ^\n",
       "<console>:20: error: method shoot overrides nothing\n",
       "           override def shoot = \"빵야\"\n",
       "                        ^\n",
       "<console>:24: error: method shoot overrides nothing\n",
       "           override def shoot = \"뿌아앙\"\n",
       "                        ^\n",
       "<console>:28: error: method shoot overrides nothing\n",
       "           override def shoot = \"콰르릉\"\n",
       "                        ^\n",
       "\n",
       "StackTrace: "
      ]
     },
     "execution_count": 32,
     "metadata": {},
     "output_type": "execute_result"
    }
   ],
   "source": [
    "class Mazinga extends Robot with M16 with Bazooka with Daepodong\n",
    "\n",
    "abstract class Robot {\n",
    "    def shoot = \"뿅\"\n",
    "}\n",
    "\n",
    "trait M16 {\n",
    "    override def shoot = \"빵야\"\n",
    "}\n",
    "\n",
    "trait Bazooka {\n",
    "    override def shoot = \"뿌아앙\"\n",
    "}\n",
    "\n",
    "trait Daepodong {\n",
    "    override def shoot = \"콰르릉\"\n",
    "}\n",
    "\n",
    "val robot = new Mazinga\n",
    "println(robot.shoot)\n",
    "\n",
    "// 맨 뒤에 있는 Daepodong 트레이트 안에 있는 shoot()이 실행된다."
   ]
  },
  {
   "cell_type": "code",
   "execution_count": 34,
   "id": "active-baseball",
   "metadata": {},
   "outputs": [
    {
     "data": {
      "text/plain": [
       "Name: Compile Error\n",
       "Message: <console>:13: error: not found: type Robot\n",
       "       class SuperMazinga extends Robot with M16 with Bazooka with Daepodong\n",
       "                                  ^\n",
       "<console>:13: error: not found: type M16\n",
       "       class SuperMazinga extends Robot with M16 with Bazooka with Daepodong\n",
       "                                             ^\n",
       "<console>:13: error: not found: type Bazooka\n",
       "       class SuperMazinga extends Robot with M16 with Bazooka with Daepodong\n",
       "                                                      ^\n",
       "<console>:13: error: not found: type Daepodong\n",
       "       class SuperMazinga extends Robot with M16 with Bazooka with Daepodong\n",
       "                                                                   ^\n",
       "<console>:34: error: value shoot is not a member of SuperMazinga\n",
       "       println(robot.shoot)\n",
       "                     ^\n",
       "\n",
       "StackTrace: "
      ]
     },
     "execution_count": 34,
     "metadata": {},
     "output_type": "execute_result"
    }
   ],
   "source": [
    "class SuperMazinga extends Robot with M16 with Bazooka with Daepodong\n",
    "\n",
    "abstract class AnotherRobot {\n",
    "    def shoot = \"뿅\"\n",
    "}\n",
    "\n",
    "trait AnotherM16 extends AnotherRobot {\n",
    "    override def shoot = super.shoot + \"빵야\"\n",
    "}\n",
    "\n",
    "trait AnotherBazooka extends AnotherRobot {\n",
    "    override def shoot = super.shoot + \"뿌아앙\"\n",
    "}\n",
    "\n",
    "trait AnotherDaepodong extends AnotherRobot {\n",
    "    override def shoot = super.shoot + \"콰르릉\"\n",
    "}\n",
    "\n",
    "val robot = new SuperMazinga\n",
    "println(robot.shoot)\n",
    "\n",
    "// shoot()을 다양하게 모두 실행하는 것을 원할때 위와같이 구현한다."
   ]
  },
  {
   "cell_type": "code",
   "execution_count": 35,
   "id": "embedded-shuttle",
   "metadata": {},
   "outputs": [
    {
     "data": {
      "text/plain": [
       "Name: Compile Error\n",
       "Message: <console>:14: error: not found: type Robot\n",
       "       class Mazinga extends Robot with M16 with Bazooka with Daepodong {\n",
       "                             ^\n",
       "<console>:14: error: not found: type M16\n",
       "       class Mazinga extends Robot with M16 with Bazooka with Daepodong {\n",
       "                                        ^\n",
       "<console>:14: error: not found: type Bazooka\n",
       "       class Mazinga extends Robot with M16 with Bazooka with Daepodong {\n",
       "                                                 ^\n",
       "<console>:14: error: not found: type Daepodong\n",
       "       class Mazinga extends Robot with M16 with Bazooka with Daepodong {\n",
       "                                                              ^\n",
       "\n",
       "StackTrace: "
      ]
     },
     "execution_count": 35,
     "metadata": {},
     "output_type": "execute_result"
    }
   ],
   "source": [
    "// shoot()을 재정의할수도 있다.\n",
    "class Mazinga extends Robot with M16 with Bazooka with Daepodong {\n",
    "    override def shoot = \"재정의\"\n",
    "}\n"
   ]
  },
  {
   "cell_type": "code",
   "execution_count": null,
   "id": "tutorial-siemens",
   "metadata": {},
   "outputs": [],
   "source": []
  }
 ],
 "metadata": {
  "kernelspec": {
   "display_name": "Scala_Toree-QM-Small",
   "language": "scala",
   "name": "scala_toree-qm-small"
  },
  "language_info": {
   "codemirror_mode": "text/x-scala",
   "file_extension": ".scala",
   "mimetype": "text/x-scala",
   "name": "scala",
   "pygments_lexer": "scala",
   "version": "2.11.12"
  }
 },
 "nbformat": 4,
 "nbformat_minor": 5
}
