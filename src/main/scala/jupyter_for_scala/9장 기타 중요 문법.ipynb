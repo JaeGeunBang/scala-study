{
 "cells": [
  {
   "cell_type": "markdown",
   "id": "stunning-ensemble",
   "metadata": {},
   "source": [
    "### 변경 불가능한 컬렉션 이용"
   ]
  },
  {
   "cell_type": "code",
   "execution_count": 1,
   "id": "utility-location",
   "metadata": {},
   "outputs": [
    {
     "data": {
      "text/plain": [
       "total = 100\n",
       "list = List(10, 20, 30, 40)\n"
      ]
     },
     "metadata": {},
     "output_type": "display_data"
    },
    {
     "data": {
      "text/plain": [
       "List(10, 20, 30, 40)"
      ]
     },
     "execution_count": 1,
     "metadata": {},
     "output_type": "execute_result"
    }
   ],
   "source": [
    "// 아래와 같이 구현하면 안좋음\n",
    "// total은 전역 변수로 아디서든 변경할수 있음 (변경에 취약한 구조)\n",
    "var total = 0 \n",
    "val list = List(10,20,30,40)\n",
    "list.foreach(item => total += item)"
   ]
  },
  {
   "cell_type": "code",
   "execution_count": 2,
   "id": "dirty-cooking",
   "metadata": {},
   "outputs": [
    {
     "data": {
      "text/plain": [
       "100"
      ]
     },
     "execution_count": 2,
     "metadata": {},
     "output_type": "execute_result"
    }
   ],
   "source": [
    "// scala는 변경 불가능한 방식으로 구현할수 있음\n",
    "list.foldLeft(0)((total, item) => total + item)"
   ]
  },
  {
   "cell_type": "markdown",
   "id": "wired-separate",
   "metadata": {},
   "source": [
    "### 예외처리\n",
    "\n",
    "```scala\n",
    "try {\n",
    "    \n",
    "} catch {\n",
    "    case E => ...\n",
    "} finally {\n",
    "    \n",
    "}\n",
    "```"
   ]
  },
  {
   "cell_type": "markdown",
   "id": "prerequisite-tuesday",
   "metadata": {},
   "source": [
    "### 사용자 입력"
   ]
  },
  {
   "cell_type": "code",
   "execution_count": 3,
   "id": "expressed-philadelphia",
   "metadata": {},
   "outputs": [
    {
     "name": "stdout",
     "output_type": "stream",
     "text": [
      "값을 입력하세요입력한 값은 null 입니다\n"
     ]
    },
    {
     "data": {
      "text/plain": [
       "a: String = null\n"
      ]
     },
     "metadata": {},
     "output_type": "display_data"
    }
   ],
   "source": [
    "print(\"값을 입력하세요\")\n",
    "var a = scala.io.StdIn.readLine\n",
    "println(\"입력한 값은 \" + a + \" 입니다\")"
   ]
  },
  {
   "cell_type": "markdown",
   "id": "closing-assist",
   "metadata": {},
   "source": [
    "### 아이더\n",
    "이것 아니면 저것을 뜻하는 Either"
   ]
  },
  {
   "cell_type": "code",
   "execution_count": 13,
   "id": "charged-enterprise",
   "metadata": {},
   "outputs": [
    {
     "data": {
      "text/plain": [
       "input = aa\n",
       "result = Left(aa)\n"
      ]
     },
     "metadata": {},
     "output_type": "display_data"
    },
    {
     "data": {
      "text/plain": [
       "Left(aa)"
      ]
     },
     "execution_count": 13,
     "metadata": {},
     "output_type": "execute_result"
    }
   ],
   "source": [
    "val input = \"aa\"\n",
    "val result: Either[String, Int] = try {\n",
    "    Right(input.toInt)\n",
    "} catch {\n",
    "    case e: Exception => Left(input)\n",
    "}\n",
    "\n",
    "// input이 숫자면 Right, 아니면 Left"
   ]
  },
  {
   "cell_type": "markdown",
   "id": "forced-restaurant",
   "metadata": {},
   "source": [
    "### 파일 입출력"
   ]
  },
  {
   "cell_type": "code",
   "execution_count": 16,
   "id": "simplified-dependence",
   "metadata": {},
   "outputs": [
    {
     "name": "stdout",
     "output_type": "stream",
     "text": [
      "test"
     ]
    },
    {
     "data": {
      "text/plain": [
       "Name: java.lang.NullPointerException\n",
       "Message: null\n",
       "StackTrace: java.lang.NullPointerException\n",
       "  at java.io.PrintWriter.write(PrintWriter.java:473)"
      ]
     },
     "execution_count": 16,
     "metadata": {},
     "output_type": "execute_result"
    }
   ],
   "source": [
    "import scala.io.Source\n",
    "import java.io.File\n",
    "import java.io.PrintWriter\n",
    "\n",
    "val fileName = \"example.txt\"\n",
    "var input = readLine(\"test\")\n",
    "\n",
    "val writer = new PrintWriter(new File(fileName))\n",
    "writer.write(input)\n",
    "writer.close"
   ]
  },
  {
   "cell_type": "markdown",
   "id": "suffering-mortality",
   "metadata": {},
   "source": [
    "### 접근 제어자"
   ]
  },
  {
   "cell_type": "code",
   "execution_count": 19,
   "id": "constant-patch",
   "metadata": {},
   "outputs": [
    {
     "data": {
      "text/plain": [
       "Name: Unknown Error\n",
       "Message: <console>:31: error: method ma in object Object1 cannot be accessed in object Object1\n",
       "           val a = Object1.ma // 컴파일 에러\n",
       "                           ^\n",
       "\n",
       "StackTrace: "
      ]
     },
     "execution_count": 19,
     "metadata": {},
     "output_type": "execute_result"
    }
   ],
   "source": [
    "object Object1 {\n",
    "    private def ma = {}\n",
    "    def mb = {}\n",
    "}\n",
    "\n",
    "object Object2 {\n",
    "    val a = Object1.ma // 컴파일 에러\n",
    "    val b = Object1.mb // 정상\n",
    "}\n",
    "\n",
    "// 위 문제는 스칼라의 동반객체를 통해 (클래스, 객체 이름이 똑같음) private 속성에도 접근할수 있음"
   ]
  },
  {
   "cell_type": "code",
   "execution_count": 29,
   "id": "european-indication",
   "metadata": {},
   "outputs": [
    {
     "data": {
      "text/plain": [
       "Name: Unknown Error\n",
       "Message: <console>:32: error: value a is not a member of object Companion\n",
       "       cc.a\n",
       "          ^\n",
       "\n",
       "StackTrace: "
      ]
     },
     "execution_count": 29,
     "metadata": {},
     "output_type": "execute_result"
    }
   ],
   "source": [
    "object Companion {\n",
    "    private def ma = {}\n",
    "    def mb = {}\n",
    "}\n",
    "\n",
    "class Companion {\n",
    "    val a = Companion.ma // 정상\n",
    "    val b = Companion.mb // 정상\n",
    "}\n",
    "\n",
    "val c = new Companion\n",
    "val cc = Companion"
   ]
  },
  {
   "cell_type": "code",
   "execution_count": null,
   "id": "french-treat",
   "metadata": {},
   "outputs": [],
   "source": []
  }
 ],
 "metadata": {
  "kernelspec": {
   "display_name": "Scala_Toree-QM-Small",
   "language": "scala",
   "name": "scala_toree-qm-small"
  },
  "language_info": {
   "codemirror_mode": "text/x-scala",
   "file_extension": ".scala",
   "mimetype": "text/x-scala",
   "name": "scala",
   "pygments_lexer": "scala",
   "version": "2.11.12"
  }
 },
 "nbformat": 4,
 "nbformat_minor": 5
}
