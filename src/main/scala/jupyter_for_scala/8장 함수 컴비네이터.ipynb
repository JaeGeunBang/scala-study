{
 "cells": [
  {
   "cell_type": "markdown",
   "id": "reduced-examination",
   "metadata": {},
   "source": [
    "### map(), foreach()"
   ]
  },
  {
   "cell_type": "code",
   "execution_count": 27,
   "id": "natural-rainbow",
   "metadata": {},
   "outputs": [
    {
     "name": "stdout",
     "output_type": "stream",
     "text": [
      "List(1, 2, 3, 4)\n",
      "List(10, 20, 30, 40)\n",
      "List(1, 2, 3, 4)\n"
     ]
    },
    {
     "data": {
      "text/plain": [
       "o = List(1, 2, 3, 4)\n",
       "n = List(10, 20, 30, 40)\n"
      ]
     },
     "metadata": {},
     "output_type": "display_data"
    },
    {
     "data": {
      "text/plain": [
       "List(10, 20, 30, 40)"
      ]
     },
     "execution_count": 27,
     "metadata": {},
     "output_type": "execute_result"
    }
   ],
   "source": [
    "val o = List(1,2,3,4)\n",
    "println(o)\n",
    "val n = o.map(i => i * 10) // 새로운 n list를 반환\n",
    "println(n)\n",
    "\n",
    "o.foreach(i => i * 10) // o list 자체를 변형\n",
    "println(o)"
   ]
  },
  {
   "cell_type": "markdown",
   "id": "republican-yahoo",
   "metadata": {},
   "source": [
    "### filter(), filterNot()"
   ]
  },
  {
   "cell_type": "code",
   "execution_count": 6,
   "id": "israeli-locking",
   "metadata": {},
   "outputs": [
    {
     "data": {
      "text/plain": [
       "List(6, 8)"
      ]
     },
     "execution_count": 6,
     "metadata": {},
     "output_type": "execute_result"
    }
   ],
   "source": [
    "o.filter(i => i >= 3).map(i => i * 2)"
   ]
  },
  {
   "cell_type": "markdown",
   "id": "restricted-finance",
   "metadata": {},
   "source": [
    "### foldLeft(), foldRight()\n",
    "\n",
    "컬렉션에 있는 여러 요소를 한쪽 방향으로 접어서(?) 새로운 하나의 요소로 바꾼다"
   ]
  },
  {
   "cell_type": "code",
   "execution_count": 10,
   "id": "sustainable-commodity",
   "metadata": {},
   "outputs": [
    {
     "data": {
      "text/plain": [
       "10"
      ]
     },
     "execution_count": 10,
     "metadata": {},
     "output_type": "execute_result"
    }
   ],
   "source": [
    "o.foldLeft(0)((i, j) => i + j) // 초기값 0, 두 값을 읽어 합친다."
   ]
  },
  {
   "cell_type": "code",
   "execution_count": 12,
   "id": "hairy-lambda",
   "metadata": {},
   "outputs": [
    {
     "data": {
      "text/plain": [
       "(List(1, 2),List(3, 4))"
      ]
     },
     "execution_count": 12,
     "metadata": {},
     "output_type": "execute_result"
    }
   ],
   "source": [
    "o.partition(i => i < 3) // 컬렉션을 나누는데 필요한 기능"
   ]
  },
  {
   "cell_type": "markdown",
   "id": "alternate-murray",
   "metadata": {},
   "source": [
    "### :::() zip(), unzip()"
   ]
  },
  {
   "cell_type": "code",
   "execution_count": 15,
   "id": "advance-curtis",
   "metadata": {},
   "outputs": [
    {
     "name": "stdout",
     "output_type": "stream",
     "text": [
      "List((1,5), (2,6), (3,7), (4,8))\n",
      "List(1, 2, 3, 4, 5, 6, 7, 8, 9)\n"
     ]
    },
    {
     "data": {
      "text/plain": [
       "oo = List(5, 6, 7, 8, 9)\n",
       "n = List((1,5), (2,6), (3,7), (4,8))\n",
       "nn = List(1, 2, 3, 4, 5, 6, 7, 8, 9)\n"
      ]
     },
     "metadata": {},
     "output_type": "display_data"
    },
    {
     "data": {
      "text/plain": [
       "List(1, 2, 3, 4, 5, 6, 7, 8, 9)"
      ]
     },
     "execution_count": 15,
     "metadata": {},
     "output_type": "execute_result"
    }
   ],
   "source": [
    "val oo = List(5,6,7,8,9)\n",
    "val n = o zip oo // zip은 리스트들을 튜플 형태로 묶어 튜플로 이루어진 리스트로 반환\n",
    "val nn = o ::: oo // 여러개의 요소가 담긴 리스트로 반환\n",
    "\n",
    "println(n)\n",
    "println(nn)"
   ]
  },
  {
   "cell_type": "markdown",
   "id": "described-listing",
   "metadata": {},
   "source": [
    "### find()"
   ]
  },
  {
   "cell_type": "code",
   "execution_count": 18,
   "id": "resistant-honor",
   "metadata": {},
   "outputs": [
    {
     "name": "stdout",
     "output_type": "stream",
     "text": [
      "Some(2)\n",
      "None\n"
     ]
    }
   ],
   "source": [
    "println(o.find(i => i >= 2))\n",
    "println(o.find(i => i >= 10))"
   ]
  },
  {
   "cell_type": "markdown",
   "id": "dress-validation",
   "metadata": {},
   "source": [
    "### drop(), dropWhile()"
   ]
  },
  {
   "cell_type": "code",
   "execution_count": 25,
   "id": "catholic-thunder",
   "metadata": {},
   "outputs": [
    {
     "name": "stdout",
     "output_type": "stream",
     "text": [
      "List(5, 6, 9, 12, 0)\n",
      "List(3, 4, 5, 6, 9, 12, 0)\n"
     ]
    },
    {
     "data": {
      "text/plain": [
       "ooo = List(1, 2, 3, 4, 5, 6, 9, 12, 0)\n"
      ]
     },
     "metadata": {},
     "output_type": "display_data"
    },
    {
     "data": {
      "text/plain": [
       "List(1, 2, 3, 4, 5, 6, 9, 12, 0)"
      ]
     },
     "execution_count": 25,
     "metadata": {},
     "output_type": "execute_result"
    }
   ],
   "source": [
    "val ooo = List(1,2,3,4,5,6,9,12,0)\n",
    "println(ooo.drop(4)) // index 4까지 모두 삭제\n",
    "println(ooo.dropWhile(i => i < 3)) // 조건식에 맞는 값들만 삭제"
   ]
  },
  {
   "cell_type": "markdown",
   "id": "economic-interference",
   "metadata": {},
   "source": [
    "### flatten()"
   ]
  },
  {
   "cell_type": "code",
   "execution_count": 28,
   "id": "second-horizon",
   "metadata": {},
   "outputs": [
    {
     "data": {
      "text/plain": [
       "oooo = List(List(List(1, 2), 1, 2, 3, 4), List(5, 6))\n"
      ]
     },
     "metadata": {},
     "output_type": "display_data"
    },
    {
     "data": {
      "text/plain": [
       "List(List(1, 2), 1, 2, 3, 4, 5, 6)"
      ]
     },
     "execution_count": 28,
     "metadata": {},
     "output_type": "execute_result"
    }
   ],
   "source": [
    "val oooo = List(List(List(1,2), 1,2,3,4), List(5,6))\n",
    "oooo.flatten // zip이랑 뭔차이?"
   ]
  },
  {
   "cell_type": "code",
   "execution_count": null,
   "id": "planned-polls",
   "metadata": {},
   "outputs": [],
   "source": []
  }
 ],
 "metadata": {
  "kernelspec": {
   "display_name": "Scala_Toree-QM-Small",
   "language": "scala",
   "name": "scala_toree-qm-small"
  },
  "language_info": {
   "codemirror_mode": "text/x-scala",
   "file_extension": ".scala",
   "mimetype": "text/x-scala",
   "name": "scala",
   "pygments_lexer": "scala",
   "version": "2.11.12"
  }
 },
 "nbformat": 4,
 "nbformat_minor": 5
}
