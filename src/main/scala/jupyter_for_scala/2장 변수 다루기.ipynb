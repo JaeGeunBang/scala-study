{
 "cells": [
  {
   "cell_type": "markdown",
   "id": "certain-accident",
   "metadata": {},
   "source": [
    "### 변수 선언\n",
    "\n",
    "스칼라는 자바나 C처럼 변수의 자료형을 굳이 선언하지 않는다.\n",
    "\n",
    "컴파일러가 알아서 자료형에 대해 판단하고 필요하다면 묵시적 형 변환을 통해 필요한 자료형으로 바꿔준다."
   ]
  },
  {
   "cell_type": "code",
   "execution_count": null,
   "id": "modified-lebanon",
   "metadata": {},
   "outputs": [],
   "source": [
    "var a = \"변수입니다\"\n",
    "val b = \"final 변수 입니다.\""
   ]
  },
  {
   "cell_type": "markdown",
   "id": "infrared-gender",
   "metadata": {},
   "source": [
    "변수는 크게 두가지 종류가 있다. var, val\n",
    "\n",
    "var: 일반적인 변수로 언제든 값이 바뀔수 있음.\n",
    "\n",
    "val: final 속성의 변수로 값이 바뀔수 없음.\n",
    "\n",
    "아래 예제처럼 val 변수를 바꾸려하면 에러가 발생한다. "
   ]
  },
  {
   "cell_type": "code",
   "execution_count": 13,
   "id": "geographic-petroleum",
   "metadata": {},
   "outputs": [
    {
     "data": {
      "text/plain": [
       "Name: Compile Error\n",
       "Message: <console>:30: error: reassignment to val\n",
       "               b = \"바꿀수 없어요\"\n",
       "                 ^\n",
       "\n",
       "StackTrace: "
      ]
     },
     "execution_count": 13,
     "metadata": {},
     "output_type": "execute_result"
    }
   ],
   "source": [
    "object Ex_2_1 {\n",
    "    def main(args: Array[String]): Unit = {\n",
    "        var a = \"변수입니다\"\n",
    "        val b = \"final 변수입니다\"\n",
    "        a = \"바꿀수 있어요\"\n",
    "        println(a)\n",
    "    }\n",
    "}"
   ]
  },
  {
   "cell_type": "markdown",
   "id": "important-comedy",
   "metadata": {},
   "source": [
    "val을 쓰는 이유? <br>\n",
    "1. 변수에 할당할수 있는 범위가 훨씬 넓기 때문에 그 형태를 확정해주는게 좋다.\n",
    "2. 스칼라는 변경불가능 (immutable) 속성을 중요시 한다. 아무나 접근해서 값을 바꿔버리면 프로그램에 문제 생길 확률이 높아진다."
   ]
  },
  {
   "cell_type": "markdown",
   "id": "junior-sheet",
   "metadata": {},
   "source": [
    "변수는 반드시 초기화 해주어야 한다.\n",
    "\n",
    "아래 처럼 `var a`는 에러가 발생한다.\n",
    "\n",
    "변수 b는 10을 할당하면 컴파일러가 알아서 Int 자료형을 가진다고 판단하고 명시적으로 표시하지 않아도 된다."
   ]
  },
  {
   "cell_type": "code",
   "execution_count": 14,
   "id": "sealed-bumper",
   "metadata": {},
   "outputs": [
    {
     "data": {
      "text/plain": [
       "Name: Syntax Error.\n",
       "Message: \n",
       "StackTrace: "
      ]
     },
     "execution_count": 14,
     "metadata": {},
     "output_type": "execute_result"
    }
   ],
   "source": [
    "var a"
   ]
  },
  {
   "cell_type": "code",
   "execution_count": 15,
   "id": "executive-barcelona",
   "metadata": {},
   "outputs": [
    {
     "data": {
      "text/plain": [
       "b = 10\n"
      ]
     },
     "metadata": {},
     "output_type": "display_data"
    },
    {
     "data": {
      "text/plain": [
       "10"
      ]
     },
     "execution_count": 15,
     "metadata": {},
     "output_type": "execute_result"
    }
   ],
   "source": [
    "var b = 10"
   ]
  },
  {
   "cell_type": "markdown",
   "id": "vocational-child",
   "metadata": {},
   "source": [
    "null 이나 none으로도 초기화할수 있다.\n",
    "\n",
    "`None`이 더 권장된다."
   ]
  },
  {
   "cell_type": "code",
   "execution_count": 17,
   "id": "tamil-israeli",
   "metadata": {},
   "outputs": [
    {
     "data": {
      "text/plain": [
       "b2 = None\n"
      ]
     },
     "metadata": {},
     "output_type": "display_data"
    },
    {
     "data": {
      "text/plain": [
       "b: Null = null\n"
      ]
     },
     "metadata": {},
     "output_type": "display_data"
    },
    {
     "data": {
      "text/plain": [
       "None"
      ]
     },
     "execution_count": 17,
     "metadata": {},
     "output_type": "execute_result"
    }
   ],
   "source": [
    "var b = null\n",
    "var b2 = None"
   ]
  },
  {
   "cell_type": "markdown",
   "id": "forward-record",
   "metadata": {},
   "source": [
    "명시적으로 자료형을 선언할수 있다.\n",
    "\n",
    "자료형은 생략할수 있지만, 앞에 var, val은 생략할수 없다."
   ]
  },
  {
   "cell_type": "code",
   "execution_count": 18,
   "id": "twelve-antigua",
   "metadata": {},
   "outputs": [
    {
     "data": {
      "text/plain": [
       "b = 10\n"
      ]
     },
     "metadata": {},
     "output_type": "display_data"
    },
    {
     "data": {
      "text/plain": [
       "10"
      ]
     },
     "execution_count": 18,
     "metadata": {},
     "output_type": "execute_result"
    }
   ],
   "source": [
    "var b: Int = 10"
   ]
  },
  {
   "cell_type": "markdown",
   "id": "parallel-monkey",
   "metadata": {},
   "source": [
    "스칼라의 모든 것은 객체지만, 편의상 속성이 조금씩 다르다.\n",
    "\n",
    "자료형에는 기본 자료형, 참조 자료형이 존재한다.\n",
    "\n",
    "Any <br>\n",
    "ㄴ AnyVal: Byte, Short, Int, Long, Char, Boolean, Unit <br>\n",
    "ㄴ AnyRef: 사용자가 만든 객체, AnyVal이 아닌 내장 객체<br>\n",
    "String\n",
    "\n"
   ]
  },
  {
   "cell_type": "code",
   "execution_count": 19,
   "id": "guided-pontiac",
   "metadata": {},
   "outputs": [
    {
     "data": {
      "text/plain": [
       "defined object Ex_2_2\n"
      ]
     },
     "metadata": {},
     "output_type": "display_data"
    }
   ],
   "source": [
    "object Ex_2_2 {\n",
    "    def main(args: Array[String]): Unit = {\n",
    "        var a: Int = 5\n",
    "        val b = a\n",
    "        a = 10\n",
    "        println(a)\n",
    "        println(b)\n",
    "    }\n",
    "}"
   ]
  },
  {
   "cell_type": "code",
   "execution_count": 21,
   "id": "pharmaceutical-characterization",
   "metadata": {},
   "outputs": [
    {
     "name": "stdout",
     "output_type": "stream",
     "text": [
      "10\n",
      "5\n"
     ]
    }
   ],
   "source": [
    "Ex_2_2.main(Array())"
   ]
  }
 ],
 "metadata": {
  "kernelspec": {
   "display_name": "Scala_Toree-QM-Small",
   "language": "scala",
   "name": "scala_toree-qm-small"
  },
  "language_info": {
   "codemirror_mode": "text/x-scala",
   "file_extension": ".scala",
   "mimetype": "text/x-scala",
   "name": "scala",
   "pygments_lexer": "scala",
   "version": "2.11.12"
  }
 },
 "nbformat": 4,
 "nbformat_minor": 5
}
