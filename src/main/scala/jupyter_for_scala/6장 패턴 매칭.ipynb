{
 "cells": [
  {
   "cell_type": "markdown",
   "id": "upset-simple",
   "metadata": {},
   "source": [
    "### 패턴 매칭\n",
    "특정한 형태의 객체나 값을 받았을때 그에 따라 코드를 분기해서 실행하기 위해 존재한다.\n",
    "\n",
    "```java\n",
    "switch(a) {\n",
    "    case 1: //\n",
    "    case 2: // \n",
    "    default: //\n",
    "}\n",
    "```\n",
    "\n",
    "허나 위 로직은 조건문 (if)로 다시 구성할수 있음. 그러나 가독성을 떨어짐\n",
    "\n",
    "가독성이 떨어져도 if를 많이 쓰는 이유는 switch 문이 모든 조건문을 대체할순 없기 때문이다.\n",
    "\n",
    "`스칼라의 패턴 매칭`은 자바의 switch 분기문에서 훨씬 업그레이드(?) 된 버전이다.\n",
    " - 정수, 문자열에 판단에 더해, 객체와 객체의 구조를 파악해서 그에 따른 로직을 실행할수 있다. 또한, 문자열은 정규식도 활용할수 있음\n",
    " - 굉장히 깔끔하고 직관적으로 코딩할수 있게 도와준다.\n",
    " \n",
    "```scala\n",
    "obj match {\n",
    "    case x => println(\"x\")\n",
    "    case y => println(\"y\")\n",
    "    case _ => println(\"etc\")\n",
    "}\n",
    "```"
   ]
  },
  {
   "cell_type": "code",
   "execution_count": 2,
   "id": "experienced-print",
   "metadata": {},
   "outputs": [
    {
     "data": {
      "text/plain": [
       "matchFunction: (input: Any)Any\n"
      ]
     },
     "metadata": {},
     "output_type": "display_data"
    },
    {
     "name": "stdout",
     "output_type": "stream",
     "text": [
      "hundred\n",
      "100\n"
     ]
    }
   ],
   "source": [
    "def matchFunction(input: Any): Any = input match { // Any를 씀으로써, 어떤 자료형이든 올수있다\n",
    "    case 100 => \"hundred\"\n",
    "    case \"hundred\" => 100\n",
    "    case etcNumber: Int => \"입력값은 100이 아닌 Int형 정수입니다\"\n",
    "    case _ => \"기타\"\n",
    "}\n",
    "\n",
    "println(matchFunction(100))\n",
    "println(matchFunction(\"hundred\"))"
   ]
  },
  {
   "cell_type": "markdown",
   "id": "english-laundry",
   "metadata": {},
   "source": [
    "### 객체 패턴 매칭\n",
    "case class를 통한 객체 패턴 매칭"
   ]
  },
  {
   "cell_type": "code",
   "execution_count": 6,
   "id": "verified-avatar",
   "metadata": {},
   "outputs": [
    {
     "name": "stdout",
     "output_type": "stream",
     "text": [
      "부회장 님이 입장했음\n",
      "회장 님이 입장했음\n"
     ]
    },
    {
     "data": {
      "text/plain": [
       "defined class Person\n",
       "person1 = Person(이멋남,47,부회장)\n",
       "person2 = Person(ㅋㅋㅋ,17,회장)\n"
      ]
     },
     "metadata": {},
     "output_type": "display_data"
    },
    {
     "data": {
      "text/plain": [
       "matchAndHi: (person: Person)Unit\n"
      ]
     },
     "metadata": {},
     "output_type": "display_data"
    },
    {
     "data": {
      "text/plain": [
       "Person(ㅋㅋㅋ,17,회장)"
      ]
     },
     "execution_count": 6,
     "metadata": {},
     "output_type": "execute_result"
    }
   ],
   "source": [
    "case class Person(name: String, age: Int, rank: String)\n",
    "val person1 = new Person(\"이멋남\", 47, \"부회장\")\n",
    "val person2 = new Person(\"ㅋㅋㅋ\", 17, \"회장\")\n",
    "\n",
    "def matchAndHi(person: Person): Unit = person match {\n",
    "    case Person(\"이멋남\", 47, r) => println(r + \" 님이 입장했음\")\n",
    "    case Person(\"ㅋㅋㅋ\", 17, r) => println(r + \" 님이 입장했음\")\n",
    "    case Person(name, age, \"사원\") if (age > 25) => \n",
    "        println(name + \" \" + age + \" 살이구나\") // if 문도 쓸수있다.\n",
    "    case _ => println(\"매치 결과 없음\")\n",
    "}\n",
    "\n",
    "matchAndHi(person1)\n",
    "matchAndHi(person2)"
   ]
  },
  {
   "cell_type": "markdown",
   "id": "dental-spanish",
   "metadata": {},
   "source": [
    "### Extractor로 패턴 매칭 이해하기\n",
    "단순히 문자열이나 숫자를 패턴 매칭하고 싶을때. 예) 전화번호 패턴 매칭 등\n",
    "\n",
    "이를 위해 일단 추출자의 역할을 하는 unapply() 메서드 구현이 필요하다.\n",
    " - unapply() 는 비적용하다의 의미가 아닌, 값을 추출해라 이런 의미..\n",
    " \n",
    "```scala\n",
    "object Obj{\n",
    "    def unapply(arg: String): Option[Int] = { }\n",
    "}\n",
    "```\n",
    "\n",
    "반환형은 `Option`이거나 Boolean이여야 한다."
   ]
  },
  {
   "cell_type": "code",
   "execution_count": 2,
   "id": "demographic-rating",
   "metadata": {},
   "outputs": [
    {
     "name": "stdout",
     "output_type": "stream",
     "text": [
      "일반 전화 102223333\n",
      "긴급 전화 119\n"
     ]
    },
    {
     "data": {
      "text/plain": [
       "number1 = 010-222-3333\n",
       "number2 = 119\n",
       "numberList = List(010-222-3333, 119)\n",
       "defined object Emergency\n",
       "defined object Normal\n"
      ]
     },
     "metadata": {},
     "output_type": "display_data"
    },
    {
     "data": {
      "text/plain": [
       "List(010-222-3333, 119)"
      ]
     },
     "execution_count": 2,
     "metadata": {},
     "output_type": "execute_result"
    }
   ],
   "source": [
    "val number1 = \"010-222-3333\"\n",
    "val number2 = \"119\"\n",
    "\n",
    "val numberList = List(number1, number2)\n",
    "\n",
    "for (number <- numberList) {\n",
    "    number match {\n",
    "        case Emergency() => println(\"긴급 전화 \" + number)\n",
    "        case Normal(number) => println(\"일반 전화 \" + number)\n",
    "        case _ => println(\"x\")\n",
    "    }\n",
    "}\n",
    "\n",
    "object Emergency {\n",
    "    def unapply(number: String): Boolean = {\n",
    "        if (number.length == 3 && number.forall(_.isDigit)) true\n",
    "        else false\n",
    "    }\n",
    "}\n",
    "\n",
    "object Normal {\n",
    "    def unapply(number: String): Option[Int] = {\n",
    "        try {\n",
    "            var o = number.replaceAll(\"-\", \"\")\n",
    "            Some(number.replaceAll(\"-\", \"\").toInt)\n",
    "        } catch {\n",
    "            case _: Throwable => None\n",
    "        }\n",
    "    }\n",
    "}"
   ]
  },
  {
   "cell_type": "code",
   "execution_count": null,
   "id": "careful-treat",
   "metadata": {},
   "outputs": [],
   "source": []
  }
 ],
 "metadata": {
  "kernelspec": {
   "display_name": "Scala_Toree-QM-Small",
   "language": "scala",
   "name": "scala_toree-qm-small"
  },
  "language_info": {
   "codemirror_mode": "text/x-scala",
   "file_extension": ".scala",
   "mimetype": "text/x-scala",
   "name": "scala",
   "pygments_lexer": "scala",
   "version": "2.11.12"
  }
 },
 "nbformat": 4,
 "nbformat_minor": 5
}
